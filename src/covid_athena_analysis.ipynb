{
 "cells": [
  {
   "cell_type": "markdown",
   "metadata": {},
   "source": [
    "# 🦠 Visualização de Dados da COVID-19"
   ]
  },
  {
   "cell_type": "markdown",
   "metadata": {},
   "source": [
    "## 🏁 Introdução\n",
    "Utilização de dados do **AWS COVID-19 data lake** para analisar informações precisas sobre a disseminação e as características do coronavírus (SARS-CoV-2). \n",
    "\n",
    "Com esses dados, há a apresentação de diversas visualizações, explorando várias correlações entre eles. Destacam-se o **gráfico de barras**, que compara a disponibilidade de leitos hospitalares entre diferentes regiões, e o **mapa interativo da linha do tempo**, que mostra a evolução de mortes mundialmente. \n",
    "\n",
    "O objetivo principal é compreender as informações obtidas no data lake e apresentar as visualizações mais eficazes para gerar **insights pertinentes**. "
   ]
  },
  {
   "cell_type": "markdown",
   "metadata": {},
   "source": [
    "## 📚Importação das bibliotecas"
   ]
  },
  {
   "cell_type": "code",
   "execution_count": 2,
   "metadata": {},
   "outputs": [],
   "source": [
    "import pandas as pd\n",
    "import plotly.express as px"
   ]
  },
  {
   "cell_type": "markdown",
   "metadata": {},
   "source": [
    "## 📖 Leitura dos dados"
   ]
  },
  {
   "cell_type": "code",
   "execution_count": 19,
   "metadata": {},
   "outputs": [],
   "source": [
    "USA_STATES_HOSPITAL_BEDS_PATH = 'data_for_visualization_csv/usa_states_hospital_beds.csv'\n",
    "usa_states_hospital_beds_df = pd.read_csv(USA_STATES_HOSPITAL_BEDS_PATH)\n",
    "\n",
    "\n",
    "USA_CASES_AND_DEATHS_PATH = 'data_for_visualization_csv/usa_states_cases_and_deaths.csv' \n",
    "usa_states_cases_and_deaths_df = pd.read_csv(USA_CASES_AND_DEATHS_PATH)\n",
    "\n",
    "GLOBAL_DEATHS_PATH = 'data_for_visualization_csv/global_deaths.csv'\n",
    "global_deaths_df = pd.read_csv(GLOBAL_DEATHS_PATH)\n",
    "\n",
    "USA_STATES_VACCINATED_PER_HUNDRED_PATH = 'data_for_visualization_csv/usa_states_vaccinated_per_hundred.csv' \n",
    "usa_states_vaccinated_per_hundred_df = pd.read_csv(USA_STATES_VACCINATED_PER_HUNDRED_PATH)\n",
    "\n",
    "USA_STATES_DOSES_PFIZER_VACCINE_PATH = 'data_for_visualization_csv/usa_states_doses_pfizer_vaccine.csv' \n",
    "usa_states_doses_pfizer_vaccine_df = pd.read_csv(USA_STATES_DOSES_PFIZER_VACCINE_PATH)"
   ]
  },
  {
   "cell_type": "markdown",
   "metadata": {},
   "source": [
    "## 👓Análises e Visualizações\n",
    "### 1. Estados Americanos e camas disponíveis"
   ]
  },
  {
   "cell_type": "code",
   "execution_count": null,
   "metadata": {},
   "outputs": [],
   "source": []
  },
  {
   "cell_type": "markdown",
   "metadata": {},
   "source": [
    "### 2. Estados Americanos: Casos e Mortes"
   ]
  },
  {
   "cell_type": "markdown",
   "metadata": {},
   "source": [
    "### 3. Mortes mundialmente"
   ]
  },
  {
   "cell_type": "markdown",
   "metadata": {},
   "source": [
    "### 4. Estados Americanos e a média de vacinas por 100 habitantes \n",
    "#### Mesclado com os maiores votos para partidos eleitorais nas eleições de 2020"
   ]
  },
  {
   "cell_type": "markdown",
   "metadata": {},
   "source": [
    "### 5. Estados Americanos e a Primeira e Segunda Dose da Vacina Pfizer"
   ]
  },
  {
   "cell_type": "markdown",
   "metadata": {},
   "source": [
    "## 🏁Conclusão"
   ]
  }
 ],
 "metadata": {
  "kernelspec": {
   "display_name": "Python 3",
   "language": "python",
   "name": "python3"
  },
  "language_info": {
   "codemirror_mode": {
    "name": "ipython",
    "version": 3
   },
   "file_extension": ".py",
   "mimetype": "text/x-python",
   "name": "python",
   "nbconvert_exporter": "python",
   "pygments_lexer": "ipython3",
   "version": "3.8.0"
  }
 },
 "nbformat": 4,
 "nbformat_minor": 2
}
